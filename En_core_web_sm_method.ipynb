{
 "cells": [
  {
   "cell_type": "markdown",
   "id": "59aae965",
   "metadata": {},
   "source": [
    "## 2) En_core_web_sm method ##"
   ]
  },
  {
   "cell_type": "code",
   "execution_count": 38,
   "id": "5dcf9c64",
   "metadata": {},
   "outputs": [],
   "source": [
    "import spacy\n",
    "import random\n",
    "import nltk\n",
    "from collections import Counter\n",
    "import numpy as np\n",
    "import matplotlib.pyplot as plt\n"
   ]
  },
  {
   "cell_type": "markdown",
   "id": "a340a90d",
   "metadata": {},
   "source": [
    "### Read the file and tokenization of text ###"
   ]
  },
  {
   "cell_type": "code",
   "execution_count": 40,
   "id": "49ad7675",
   "metadata": {},
   "outputs": [],
   "source": [
    "\n",
    "nlp = spacy.load('en_core_web_sm')\n",
    "\n",
    "\n",
    "with open('wsj_untokenized.txt', 'r') as f:\n",
    "    text = f.read()\n",
    "\n",
    "doc = nlp(text)\n",
    "\n",
    "\n",
    "tokens = [token.text for token in doc]"
   ]
  },
  {
   "cell_type": "markdown",
   "id": "3e7392a8",
   "metadata": {},
   "source": [
    "### Number of tokens ###"
   ]
  },
  {
   "cell_type": "code",
   "execution_count": 41,
   "id": "6ca3e744",
   "metadata": {},
   "outputs": [
    {
     "name": "stdout",
     "output_type": "stream",
     "text": [
      "Number of tokens: 95894\n"
     ]
    }
   ],
   "source": [
    "#find length of tokens\n",
    "num_tokens = len(tokens)\n",
    "print(\"Number of tokens:\", num_tokens)"
   ]
  },
  {
   "cell_type": "markdown",
   "id": "aed12d84",
   "metadata": {},
   "source": [
    "### Number of unique tokens ###"
   ]
  },
  {
   "cell_type": "code",
   "execution_count": 42,
   "id": "d8ff456c",
   "metadata": {},
   "outputs": [
    {
     "name": "stdout",
     "output_type": "stream",
     "text": [
      "Number of unique tokens: 11477\n"
     ]
    }
   ],
   "source": [
    "#find length of set and set is unique tokens ignoring capitalization etc.\n",
    "num_unique_tokens = len(set(tokens))\n",
    "print(\"Number of unique tokens:\", num_unique_tokens)"
   ]
  },
  {
   "cell_type": "markdown",
   "id": "d305ac10",
   "metadata": {},
   "source": [
    "### Print a random sentence and the tokens in the random sentence ###"
   ]
  },
  {
   "cell_type": "code",
   "execution_count": 43,
   "id": "341cff81",
   "metadata": {},
   "outputs": [
    {
     "name": "stdout",
     "output_type": "stream",
     "text": [
      "Magna said Mr. McAlpine resigned to pursue a consulting career, with Magna as one of his clients.\n",
      "['Magna', 'said', 'Mr.', 'McAlpine', 'resigned', 'to', 'pursue', 'a', 'consulting', 'career', ',', 'with', 'Magna', 'as', 'one', 'of', 'his', 'clients', '.']\n"
     ]
    }
   ],
   "source": [
    "\n",
    "sentences = nltk.sent_tokenize(text)\n",
    "\n",
    "\n",
    "random_sentence = random.choice(sentences)\n",
    "\n",
    "\n",
    "doc = nlp(random_sentence)\n",
    "tokens_in_random_sentence = [token.text for token in doc]\n",
    "\n",
    "\n",
    "print(random_sentence)\n",
    "print(tokens_in_random_sentence)"
   ]
  },
  {
   "cell_type": "markdown",
   "id": "c00342c2",
   "metadata": {},
   "source": [
    "### Table of tokenization probabilities ###"
   ]
  },
  {
   "cell_type": "code",
   "execution_count": 44,
   "id": "6460f85b",
   "metadata": {},
   "outputs": [
    {
     "name": "stdout",
     "output_type": "stream",
     "text": [
      "Position   Token                Count                Probability          Position * Probability\n",
      "1          ,                    4823                 0.05030              0.05030             \n",
      "2          the                  4047                 0.04220              0.08441             \n",
      "3          .                    3761                 0.03922              0.11766             \n",
      "4          of                   2313                 0.02412              0.09648             \n",
      "5          to                   2162                 0.02255              0.11273             \n",
      "6          a                    1868                 0.01948              0.11688             \n",
      "7          in                   1576                 0.01643              0.11504             \n",
      "8          and                  1496                 0.01560              0.12480             \n",
      "9          ''                   1372                 0.01431              0.12877             \n",
      "10         -                    1231                 0.01284              0.12837             \n",
      "11         's                   863                  0.00900              0.09899             \n",
      "12         for                  815                  0.00850              0.10199             \n",
      "13         that                 807                  0.00842              0.10940             \n",
      "14         The                  714                  0.00745              0.10424             \n",
      "15         $                    702                  0.00732              0.10981             \n",
      "16         is                   671                  0.00700              0.11196             \n",
      "17         said                 627                  0.00654              0.11115             \n",
      "18         on                   491                  0.00512              0.09216             \n",
      "19         it                   476                  0.00496              0.09431             \n",
      "20         %                    444                  0.00463              0.09260             \n"
     ]
    }
   ],
   "source": [
    "token_counts = Counter(tokens)\n",
    "\n",
    "\n",
    "total_tokens = len(tokens)\n",
    "\n",
    "\n",
    "token_probs = {token: count / total_tokens for token, count in token_counts.items()}\n",
    "\n",
    "\n",
    "top_tokens = sorted(token_counts.items(), key=lambda x: x[1], reverse=True)[:20]\n",
    "\n",
    "\n",
    "print(\"{:<10} {:<20} {:<20} {:<20} {:<20}\".format(\"Position\", \"Token\", \"Count\", \"Probability\", \"Position * Probability\"))\n",
    "\n",
    "\n",
    "for i, (token, count) in enumerate(top_tokens):\n",
    "    probability = token_probs[token]\n",
    "    position_times_probability = (i+1) * probability\n",
    "    print(\"{:<10} {:<20} {:<20} {:<20.5f} {:<20.5f}\".format(i+1, token, count, probability, position_times_probability))"
   ]
  },
  {
   "cell_type": "markdown",
   "id": "5ceeebc4",
   "metadata": {},
   "source": [
    "### Calculation of the percentages of tokens that appear exactly once, exactly 2 times, and exactly 3 times ###"
   ]
  },
  {
   "cell_type": "code",
   "execution_count": 45,
   "id": "96cfdca7",
   "metadata": {},
   "outputs": [
    {
     "name": "stdout",
     "output_type": "stream",
     "text": [
      "Percentage of tokens that appear exactly once: 5.99%\n",
      "Percentage of tokens that appear exactly twice: 1.87%\n",
      "Percentage of tokens that appear exactly three times: 0.92%\n"
     ]
    }
   ],
   "source": [
    "num_once = sum(1 for count in token_counts.values() if count == 1)\n",
    "num_twice = sum(1 for count in token_counts.values() if count == 2)\n",
    "num_thrice = sum(1 for count in token_counts.values() if count == 3)\n",
    "\n",
    "\n",
    "pct_once = 100 * num_once / total_tokens\n",
    "pct_twice = 100 * num_twice / total_tokens\n",
    "pct_thrice = 100 * num_thrice / total_tokens\n",
    "\n",
    "\n",
    "print(\"Percentage of tokens that appear exactly once: {:.2f}%\".format(pct_once))\n",
    "print(\"Percentage of tokens that appear exactly twice: {:.2f}%\".format(pct_twice))\n",
    "print(\"Percentage of tokens that appear exactly three times: {:.2f}%\".format(pct_thrice))"
   ]
  },
  {
   "cell_type": "markdown",
   "id": "b312b482",
   "metadata": {},
   "source": [
    "### Calculation of the expected percentages of tokens that appear exactly once, exactly 2 times, and exactly 3 times ###"
   ]
  },
  {
   "cell_type": "code",
   "execution_count": 48,
   "id": "325fefe3",
   "metadata": {},
   "outputs": [
    {
     "name": "stdout",
     "output_type": "stream",
     "text": [
      "Expected percentage of tokens that appear exactly once: 50.00%\n",
      "Expected percentage of tokens that appear exactly twice: 16.67%\n",
      "Expected percentage of tokens that appear exactly three times: 8.33%\n"
     ]
    }
   ],
   "source": [
    "pct_once_expected = 100 * (1/(1*(1+1))) #n=1\n",
    "pct_twice_expected = 100 * (1/(2*(2+1))) #n=2\n",
    "pct_thrice_expected = 100 * (1/(3*(3+1))) #n=3\n",
    "\n",
    "\n",
    "print(\"Expected percentage of tokens that appear exactly once: {:.2f}%\".format(pct_once_expected))\n",
    "print(\"Expected percentage of tokens that appear exactly twice: {:.2f}%\".format(pct_twice_expected))\n",
    "print(\"Expected percentage of tokens that appear exactly three times: {:.2f}%\".format(pct_thrice_expected))"
   ]
  },
  {
   "cell_type": "markdown",
   "id": "c1e839da",
   "metadata": {},
   "source": [
    "### Calculation of A and plotting of Actual frequencies-Rank vs Expected frequencies-Rank ###"
   ]
  },
  {
   "cell_type": "code",
   "execution_count": 50,
   "id": "c86c1e95",
   "metadata": {},
   "outputs": [
    {
     "name": "stdout",
     "output_type": "stream",
     "text": [
      "The best value found for constant A is: 0.10097746611713865\n"
     ]
    },
    {
     "data": {
      "image/png": "[encoded data removed]",
      "text/plain": [
       "<Figure size 640x480 with 1 Axes>"
      ]
     },
     "metadata": {},
     "output_type": "display_data"
    }
   ],
   "source": [
    "sorted_counts = sorted(token_counts.items(), key=lambda x: x[1], reverse=True)\n",
    "\n",
    "frequencies = [count for token, count in sorted_counts]\n",
    "\n",
    "ranks = np.arange(1, len(frequencies) + 1)\n",
    "\n",
    "A_values = []\n",
    "A_values_sum = 0;\n",
    "for i in range(len(frequencies)):\n",
    "    \n",
    "    A = (frequencies[i] / num_tokens) * ranks[i]\n",
    "    A_values_sum = A_values_sum+A\n",
    "    A_values.append(A)\n",
    "\n",
    "# the best value found should be the average value since A is a constant\n",
    "average= A_values_sum/len(frequencies)\n",
    "print(\"The best value found for constant A is:\",average)\n",
    "\n",
    "expected_frequencies = [0] * len(frequencies)\n",
    "\n",
    "# expected frequencies  (solved for A)\n",
    "for i in range(len(frequencies)):\n",
    "\n",
    "    expected_frequencies[i] = average * num_tokens / ranks[i]\n",
    "\n",
    "# actual frequencies vs expected frequencies\n",
    "\n",
    "plt.plot(ranks, expected_frequencies, 'r.', label='Expected frequencies (Zipf\\'s law)')\n",
    "plt.plot(ranks, frequencies, 'b.', label='Actual frequencies')\n",
    "\n",
    "plt.xscale('log')\n",
    "plt.yscale('log')\n",
    "\n",
    "\n",
    "plt.xlabel('Rank')\n",
    "plt.ylabel('Frequency')\n",
    "plt.legend()\n",
    "\n",
    "\n",
    "plt.show()"
   ]
  },
  {
   "cell_type": "code",
   "execution_count": null,
   "id": "7bde8706",
   "metadata": {},
   "outputs": [],
   "source": []
  }
 ],
 "metadata": {
  "kernelspec": {
   "display_name": "Python 3 (ipykernel)",
   "language": "python",
   "name": "python3"
  },
  "language_info": {
   "codemirror_mode": {
    "name": "ipython",
    "version": 3
   },
   "file_extension": ".py",
   "mimetype": "text/x-python",
   "name": "python",
   "nbconvert_exporter": "python",
   "pygments_lexer": "ipython3",
   "version": "3.11.0"
  }
 },
 "nbformat": 4,
 "nbformat_minor": 5
}
