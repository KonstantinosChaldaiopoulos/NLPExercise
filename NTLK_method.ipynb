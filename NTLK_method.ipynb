{
 "cells": [
  {
   "cell_type": "markdown",
   "id": "b87c0c66",
   "metadata": {},
   "source": [
    "# 1) NTLK method #\n",
    "\n",
    "\n",
    "\n"
   ]
  },
  {
   "cell_type": "code",
   "execution_count": 2,
   "id": "2b2d0113",
   "metadata": {},
   "outputs": [],
   "source": [
    "import nltk\n",
    "import random \n",
    "from nltk.tokenize import RegexpTokenizer\n",
    "import matplotlib.pyplot as plt\n",
    "import numpy as np\n",
    "from collections import Counter"
   ]
  },
  {
   "cell_type": "markdown",
   "id": "6204c1ed",
   "metadata": {},
   "source": [
    "### Read the file and tokenization of text ###"
   ]
  },
  {
   "cell_type": "code",
   "execution_count": 3,
   "id": "03f34954",
   "metadata": {},
   "outputs": [],
   "source": [
    "#read file\n",
    "with open('wsj_untokenized.txt', 'r') as f:\n",
    "    text = f.read()\n",
    "\n",
    "#tokenization\n",
    "tokens = nltk.word_tokenize(text)\n"
   ]
  },
  {
   "cell_type": "markdown",
   "id": "643e6aa1",
   "metadata": {},
   "source": [
    "### Number of tokens ###\n"
   ]
  },
  {
   "cell_type": "code",
   "execution_count": 4,
   "id": "69915b93",
   "metadata": {},
   "outputs": [
    {
     "name": "stdout",
     "output_type": "stream",
     "text": [
      "Number of tokens: 93530\n"
     ]
    }
   ],
   "source": [
    "#find length of tokens\n",
    "num_tokens = len(tokens)\n",
    "print(\"Number of tokens:\", num_tokens)"
   ]
  },
  {
   "cell_type": "markdown",
   "id": "f54171b1",
   "metadata": {},
   "source": [
    "### Number of unique tokens ###"
   ]
  },
  {
   "cell_type": "code",
   "execution_count": 5,
   "id": "41a4ba3e",
   "metadata": {},
   "outputs": [
    {
     "name": "stdout",
     "output_type": "stream",
     "text": [
      "Number of unique tokens: 12000\n"
     ]
    }
   ],
   "source": [
    "#find length of set and set is unique tokens ignoring capitalization etc.\n",
    "num_unique_tokens = len(set(tokens))\n",
    "print(\"Number of unique tokens:\", num_unique_tokens)"
   ]
  },
  {
   "cell_type": "markdown",
   "id": "f2a5c993",
   "metadata": {},
   "source": [
    "### Print a random sentence and the tokens in the random sentence ###"
   ]
  },
  {
   "cell_type": "code",
   "execution_count": 6,
   "id": "ff62c64c",
   "metadata": {},
   "outputs": [
    {
     "name": "stdout",
     "output_type": "stream",
     "text": [
      "Excluding these orders, backlogs declined 0.3%.\n",
      "['Excluding', 'these', 'orders', ',', 'backlogs', 'declined', '0.3', '%', '.']\n"
     ]
    }
   ],
   "source": [
    "sentences = nltk.sent_tokenize(text)\n",
    "\n",
    "random_sentence = random.choice(sentences)\n",
    "\n",
    "tokens_in_random_sentence = nltk.word_tokenize(random_sentence)\n",
    "\n",
    "print(random_sentence)\n",
    "\n",
    "print(tokens_in_random_sentence)"
   ]
  },
  {
   "cell_type": "markdown",
   "id": "58b32835",
   "metadata": {},
   "source": [
    "### Table of tokenization probabilities ###"
   ]
  },
  {
   "cell_type": "code",
   "execution_count": 7,
   "id": "886b1953",
   "metadata": {},
   "outputs": [
    {
     "name": "stdout",
     "output_type": "stream",
     "text": [
      "Position   Token                Count                Probability          Position * Probability\n",
      "1          ,                    4823                 0.05157              0.05157             \n",
      "2          the                  4041                 0.04321              0.08641             \n",
      "3          .                    3819                 0.04083              0.12250             \n",
      "4          of                   2312                 0.02472              0.09888             \n",
      "5          to                   2157                 0.02306              0.11531             \n",
      "6          a                    1857                 0.01985              0.11913             \n",
      "7          in                   1563                 0.01671              0.11698             \n",
      "8          and                  1489                 0.01592              0.12736             \n",
      "9          ''                   959                  0.01025              0.09228             \n",
      "10         's                   863                  0.00923              0.09227             \n",
      "11         for                  815                  0.00871              0.09585             \n",
      "12         that                 807                  0.00863              0.10354             \n",
      "13         The                  714                  0.00763              0.09924             \n",
      "14         $                    708                  0.00757              0.10598             \n",
      "15         is                   671                  0.00717              0.10761             \n",
      "16         said                 627                  0.00670              0.10726             \n",
      "17         on                   489                  0.00523              0.08888             \n",
      "18         it                   475                  0.00508              0.09141             \n",
      "19         %                    446                  0.00477              0.09060             \n",
      "20         by                   427                  0.00457              0.09131             \n"
     ]
    }
   ],
   "source": [
    "token_counts = Counter(tokens)\n",
    "\n",
    "\n",
    "total_tokens = len(tokens)\n",
    "\n",
    "\n",
    "token_probs = {token: count / total_tokens for token, count in token_counts.items()}\n",
    "\n",
    "\n",
    "top_tokens = sorted(token_counts.items(), key=lambda x: x[1], reverse=True)[:20]\n",
    "\n",
    "\n",
    "print(\"{:<10} {:<20} {:<20} {:<20} {:<20}\".format(\"Position\", \"Token\", \"Count\", \"Probability\", \"Position * Probability\"))\n",
    "\n",
    "\n",
    "for i, (token, count) in enumerate(top_tokens):\n",
    "    probability = token_probs[token]\n",
    "    position_times_probability = (i+1) * probability\n",
    "    print(\"{:<10} {:<20} {:<20} {:<20.5f} {:<20.5f}\".format(i+1, token, count, probability, position_times_probability))"
   ]
  },
  {
   "cell_type": "markdown",
   "id": "60d3cf56",
   "metadata": {},
   "source": [
    "### Calculation of the percentages of tokens that appear exactly once, exactly 2 times, and exactly 3 times ###"
   ]
  },
  {
   "cell_type": "code",
   "execution_count": 8,
   "id": "0bc37c7d",
   "metadata": {},
   "outputs": [
    {
     "name": "stdout",
     "output_type": "stream",
     "text": [
      "Percentage of tokens that appear exactly once: 6.69%\n",
      "Percentage of tokens that appear exactly twice: 1.96%\n",
      "Percentage of tokens that appear exactly three times: 0.97%\n"
     ]
    }
   ],
   "source": [
    "num_once = sum(1 for count in token_counts.values() if count == 1)\n",
    "num_twice = sum(1 for count in token_counts.values() if count == 2)\n",
    "num_thrice = sum(1 for count in token_counts.values() if count == 3)\n",
    "\n",
    "\n",
    "pct_once = 100 * num_once / total_tokens\n",
    "pct_twice = 100 * num_twice / total_tokens\n",
    "pct_thrice = 100 * num_thrice / total_tokens\n",
    "\n",
    "\n",
    "print(\"Percentage of tokens that appear exactly once: {:.2f}%\".format(pct_once))\n",
    "print(\"Percentage of tokens that appear exactly twice: {:.2f}%\".format(pct_twice))\n",
    "print(\"Percentage of tokens that appear exactly three times: {:.2f}%\".format(pct_thrice))"
   ]
  },
  {
   "cell_type": "markdown",
   "id": "a423e66c",
   "metadata": {},
   "source": [
    "### Calculation of the expected percentages of tokens that appear exactly once, exactly 2 times, and exactly 3 times ###"
   ]
  },
  {
   "cell_type": "code",
   "execution_count": 9,
   "id": "d91ad75f",
   "metadata": {},
   "outputs": [
    {
     "name": "stdout",
     "output_type": "stream",
     "text": [
      "Expected percentage of tokens that appear exactly once: 50.00%\n",
      "Expected percentage of tokens that appear exactly twice: 16.67%\n",
      "Expected percentage of tokens that appear exactly three times: 8.33%\n"
     ]
    }
   ],
   "source": [
    "pct_once_expected = 100 * (1/(1*(1+1))) #n=1\n",
    "pct_twice_expected = 100 * (1/(2*(2+1))) #n=2\n",
    "pct_thrice_expected = 100 * (1/(3*(3+1))) #n=3\n",
    "\n",
    "\n",
    "print(\"Expected percentage of tokens that appear exactly once: {:.2f}%\".format(pct_once_expected))\n",
    "print(\"Expected percentage of tokens that appear exactly twice: {:.2f}%\".format(pct_twice_expected))\n",
    "print(\"Expected percentage of tokens that appear exactly three times: {:.2f}%\".format(pct_thrice_expected))"
   ]
  },
  {
   "cell_type": "markdown",
   "id": "da8a8ce7",
   "metadata": {},
   "source": [
    "### Calculation of A and plotting of Actual frequencies-Rank vs Expected frequencies-Rank ###"
   ]
  },
  {
   "cell_type": "code",
   "execution_count": 11,
   "id": "df83b781",
   "metadata": {},
   "outputs": [
    {
     "name": "stdout",
     "output_type": "stream",
     "text": [
      "The best value found for constant A is: 0.10348978313553585\n"
     ]
    },
    {
     "data": {
      "image/png": "[encoded data removed]",
      "text/plain": [
       "<Figure size 640x480 with 1 Axes>"
      ]
     },
     "metadata": {},
     "output_type": "display_data"
    }
   ],
   "source": [
    "sorted_counts = sorted(token_counts.items(), key=lambda x: x[1], reverse=True)\n",
    "\n",
    "frequencies = [count for token, count in sorted_counts]\n",
    "\n",
    "ranks = np.arange(1, len(frequencies) + 1)\n",
    "\n",
    "A_values = []\n",
    "A_values_sum = 0;\n",
    "for i in range(len(frequencies)):\n",
    "    \n",
    "    A = (frequencies[i] / num_tokens) * ranks[i]\n",
    "    A_values_sum = A_values_sum+A\n",
    "    A_values.append(A)\n",
    "\n",
    "# the best value found should be the average value since A is a constant\n",
    "average= A_values_sum/len(frequencies)\n",
    "print(\"The best value found for constant A is:\",average)\n",
    "\n",
    "expected_frequencies = [0] * len(frequencies)\n",
    "\n",
    "# expected frequencies  (solved for A)\n",
    "for i in range(len(frequencies)):\n",
    "\n",
    "    expected_frequencies[i] = average * num_tokens / ranks[i]\n",
    "\n",
    "# actual frequencies vs expected frequencies\n",
    "\n",
    "plt.plot(ranks, expected_frequencies, 'r.', label='Expected frequencies (Zipf\\'s law)')\n",
    "plt.plot(ranks, frequencies, 'b.', label='Actual frequencies')\n",
    "\n",
    "plt.xscale('log')\n",
    "plt.yscale('log')\n",
    "\n",
    "\n",
    "plt.xlabel('Rank')\n",
    "plt.ylabel('Frequency')\n",
    "plt.legend()\n",
    "\n",
    "\n",
    "plt.show()"
   ]
  },
  {
   "cell_type": "code",
   "execution_count": null,
   "id": "b66e7a01",
   "metadata": {},
   "outputs": [],
   "source": []
  }
 ],
 "metadata": {
  "kernelspec": {
   "display_name": "Python 3 (ipykernel)",
   "language": "python",
   "name": "python3"
  },
  "language_info": {
   "codemirror_mode": {
    "name": "ipython",
    "version": 3
   },
   "file_extension": ".py",
   "mimetype": "text/x-python",
   "name": "python",
   "nbconvert_exporter": "python",
   "pygments_lexer": "ipython3",
   "version": "3.11.0"
  }
 },
 "nbformat": 4,
 "nbformat_minor": 5
}
