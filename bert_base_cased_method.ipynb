{
 "cells": [
  {
   "cell_type": "code",
   "execution_count": 45,
   "id": "59ccce81",
   "metadata": {},
   "outputs": [],
   "source": [
    "import torch\n",
    "from transformers import BertTokenizer\n",
    "import random\n",
    "import nltk\n",
    "from collections import Counter\n",
    "import numpy as np\n",
    "import matplotlib.pyplot as plt"
   ]
  },
  {
   "cell_type": "markdown",
   "id": "f435f4b5",
   "metadata": {},
   "source": [
    "### Read the file and tokenization of text ###"
   ]
  },
  {
   "cell_type": "code",
   "execution_count": 38,
   "id": "6e0b3ddc",
   "metadata": {},
   "outputs": [],
   "source": [
    "tokenizer = BertTokenizer.from_pretrained('bert-base-cased')\n",
    "\n",
    "with open('wsj_untokenized.txt', 'r') as f:\n",
    "    text = f.read()\n",
    "\n",
    "tokens = tokenizer.tokenize(text)"
   ]
  },
  {
   "cell_type": "markdown",
   "id": "5dd784d8",
   "metadata": {},
   "source": [
    "### Number of tokens ###"
   ]
  },
  {
   "cell_type": "code",
   "execution_count": 9,
   "id": "706a8400",
   "metadata": {},
   "outputs": [
    {
     "name": "stdout",
     "output_type": "stream",
     "text": [
      "Number of tokens: 112325\n"
     ]
    }
   ],
   "source": [
    "#find length of tokens\n",
    "num_tokens = len(tokens)\n",
    "print(\"Number of tokens:\", num_tokens)"
   ]
  },
  {
   "cell_type": "markdown",
   "id": "6141f0f3",
   "metadata": {},
   "source": [
    "### Number of unique tokens ###"
   ]
  },
  {
   "cell_type": "code",
   "execution_count": 10,
   "id": "c9574e59",
   "metadata": {},
   "outputs": [
    {
     "name": "stdout",
     "output_type": "stream",
     "text": [
      "Number of unique tokens: 10266\n"
     ]
    }
   ],
   "source": [
    "#find length of set and set is unique tokens ignoring capitalization etc.\n",
    "num_unique_tokens = len(set(tokens))\n",
    "print(\"Number of unique tokens:\", num_unique_tokens)"
   ]
  },
  {
   "cell_type": "markdown",
   "id": "c2455157",
   "metadata": {},
   "source": [
    "### Print a random sentence and the tokens in the random sentence ###"
   ]
  },
  {
   "cell_type": "code",
   "execution_count": 30,
   "id": "e2552452",
   "metadata": {},
   "outputs": [
    {
     "name": "stdout",
     "output_type": "stream",
     "text": [
      "The Labor Department cited USX Corp. for numerous health and safety violations at two Pennsylvania plants, and proposed $7.3 million in fines, the largest penalty ever proposed for alleged workplace violations by an employer.\n",
      "['The', 'Labor', 'Department', 'cited', 'US', '##X', 'Corp', '.', 'for', 'numerous', 'health', 'and', 'safety', 'violations', 'at', 'two', 'Pennsylvania', 'plants', ',', 'and', 'proposed', '$', '7', '.', '3', 'million', 'in', 'fines', ',', 'the', 'largest', 'penalty', 'ever', 'proposed', 'for', 'alleged', 'workplace', 'violations', 'by', 'an', 'employer', '.']\n"
     ]
    }
   ],
   "source": [
    "sentences = nltk.sent_tokenize(text)\n",
    "\n",
    "random_sentence = random.choice(sentences)\n",
    "\n",
    "tokens_in_random_sentence = tokenizer.tokenize(random_sentence)\n",
    "\n",
    "print(random_sentence)\n",
    "print(tokens_in_random_sentence)"
   ]
  },
  {
   "cell_type": "markdown",
   "id": "1e837192",
   "metadata": {},
   "source": [
    "### Table of tokenization probabilities ###"
   ]
  },
  {
   "cell_type": "code",
   "execution_count": 39,
   "id": "774137ad",
   "metadata": {},
   "outputs": [
    {
     "name": "stdout",
     "output_type": "stream",
     "text": [
      "Position   Token                Count                Probability          Position * Probability\n",
      "1          .                    6363                 0.05665              0.05665             \n",
      "2          ,                    5026                 0.04475              0.08949             \n",
      "3          '                    4117                 0.03665              0.10996             \n",
      "4          the                  4049                 0.03605              0.14419             \n",
      "5          of                   2314                 0.02060              0.10300             \n",
      "6          to                   2167                 0.01929              0.11575             \n",
      "7          a                    1927                 0.01716              0.12009             \n",
      "8          -                    1733                 0.01543              0.12343             \n",
      "9          in                   1600                 0.01424              0.12820             \n",
      "10         and                  1498                 0.01334              0.13336             \n",
      "11         s                    932                  0.00830              0.09127             \n",
      "12         for                  815                  0.00726              0.08707             \n",
      "13         that                 807                  0.00718              0.09340             \n",
      "14         The                  715                  0.00637              0.08912             \n",
      "15         $                    708                  0.00630              0.09455             \n",
      "16         ##s                  686                  0.00611              0.09772             \n",
      "17         is                   628                  0.00559              0.09505             \n",
      "18         said                 627                  0.00558              0.10048             \n",
      "19         on                   492                  0.00438              0.08322             \n",
      "20         it                   476                  0.00424              0.08475             \n"
     ]
    }
   ],
   "source": [
    "token_counts = Counter(tokens)\n",
    "\n",
    "\n",
    "total_tokens = len(tokens)\n",
    "\n",
    "\n",
    "token_probs = {token: count / total_tokens for token, count in token_counts.items()}\n",
    "\n",
    "\n",
    "top_tokens = sorted(token_counts.items(), key=lambda x: x[1], reverse=True)[:20]\n",
    "\n",
    "\n",
    "print(\"{:<10} {:<20} {:<20} {:<20} {:<20}\".format(\"Position\", \"Token\", \"Count\", \"Probability\", \"Position * Probability\"))\n",
    "\n",
    "\n",
    "for i, (token, count) in enumerate(top_tokens):\n",
    "    probability = token_probs[token]\n",
    "    position_times_probability = (i+1) * probability\n",
    "    print(\"{:<10} {:<20} {:<20} {:<20.5f} {:<20.5f}\".format(i+1, token, count, probability, position_times_probability))"
   ]
  },
  {
   "cell_type": "markdown",
   "id": "83948f9d",
   "metadata": {},
   "source": [
    "### Calculation of the percentages of tokens that appear exactly once, exactly 2 times, and exactly 3 times ###"
   ]
  },
  {
   "cell_type": "code",
   "execution_count": 40,
   "id": "2f19a1b5",
   "metadata": {},
   "outputs": [
    {
     "name": "stdout",
     "output_type": "stream",
     "text": [
      "Percentage of tokens that appear exactly once: 3.43%\n",
      "Percentage of tokens that appear exactly twice: 1.53%\n",
      "Percentage of tokens that appear exactly three times: 0.84%\n"
     ]
    }
   ],
   "source": [
    "num_once = sum(1 for count in token_counts.values() if count == 1)\n",
    "num_twice = sum(1 for count in token_counts.values() if count == 2)\n",
    "num_thrice = sum(1 for count in token_counts.values() if count == 3)\n",
    "\n",
    "\n",
    "pct_once = 100 * num_once / total_tokens\n",
    "pct_twice = 100 * num_twice / total_tokens\n",
    "pct_thrice = 100 * num_thrice / total_tokens\n",
    "\n",
    "\n",
    "print(\"Percentage of tokens that appear exactly once: {:.2f}%\".format(pct_once))\n",
    "print(\"Percentage of tokens that appear exactly twice: {:.2f}%\".format(pct_twice))\n",
    "print(\"Percentage of tokens that appear exactly three times: {:.2f}%\".format(pct_thrice))"
   ]
  },
  {
   "cell_type": "markdown",
   "id": "6e566052",
   "metadata": {},
   "source": [
    "### Calculation of the expected percentages of tokens that appear exactly once, exactly 2 times, and exactly 3 times ###"
   ]
  },
  {
   "cell_type": "code",
   "execution_count": 41,
   "id": "f6df127f",
   "metadata": {},
   "outputs": [
    {
     "name": "stdout",
     "output_type": "stream",
     "text": [
      "Expected percentage of tokens that appear exactly once: 50.00%\n",
      "Expected percentage of tokens that appear exactly twice: 16.67%\n",
      "Expected percentage of tokens that appear exactly three times: 8.33%\n"
     ]
    }
   ],
   "source": [
    "pct_once_expected = 100 * (1/(1*(1+1))) #n=1\n",
    "pct_twice_expected = 100 * (1/(2*(2+1))) #n=2\n",
    "pct_thrice_expected = 100 * (1/(3*(3+1))) #n=3\n",
    "\n",
    "\n",
    "print(\"Expected percentage of tokens that appear exactly once: {:.2f}%\".format(pct_once_expected))\n",
    "print(\"Expected percentage of tokens that appear exactly twice: {:.2f}%\".format(pct_twice_expected))\n",
    "print(\"Expected percentage of tokens that appear exactly three times: {:.2f}%\".format(pct_thrice_expected))"
   ]
  },
  {
   "cell_type": "markdown",
   "id": "39abe9e3",
   "metadata": {},
   "source": [
    "### Calculation of A and plotting of Actual frequencies-Rank vs Expected frequencies-Rank ###"
   ]
  },
  {
   "cell_type": "code",
   "execution_count": 46,
   "id": "605c7c1d",
   "metadata": {},
   "outputs": [
    {
     "name": "stdout",
     "output_type": "stream",
     "text": [
      "The best value found for constant A is: 0.10064358051351499\n"
     ]
    },
    {
     "data": {
      "image/png": "[encoded data removed]",
      "text/plain": [
       "<Figure size 640x480 with 1 Axes>"
      ]
     },
     "metadata": {},
     "output_type": "display_data"
    }
   ],
   "source": [
    "sorted_counts = sorted(token_counts.items(), key=lambda x: x[1], reverse=True)\n",
    "\n",
    "frequencies = [count for token, count in sorted_counts]\n",
    "\n",
    "ranks = np.arange(1, len(frequencies) + 1)\n",
    "\n",
    "A_values = []\n",
    "A_values_sum = 0;\n",
    "for i in range(len(frequencies)):\n",
    "    \n",
    "    A = (frequencies[i] / num_tokens) * ranks[i]\n",
    "    A_values_sum = A_values_sum+A\n",
    "    A_values.append(A)\n",
    "\n",
    "# the best value found should be the average value since A is a constant\n",
    "average= A_values_sum/len(frequencies)\n",
    "print(\"The best value found for constant A is:\",average)\n",
    "\n",
    "expected_frequencies = [0] * len(frequencies)\n",
    "\n",
    "# expected frequencies  (solved for A)\n",
    "for i in range(len(frequencies)):\n",
    "\n",
    "    expected_frequencies[i] = average * num_tokens / ranks[i]\n",
    "\n",
    "# actual frequencies vs expected frequencies\n",
    "\n",
    "plt.plot(ranks, expected_frequencies, 'r.', label='Expected frequencies (Zipf\\'s law)')\n",
    "plt.plot(ranks, frequencies, 'b.', label='Actual frequencies')\n",
    "\n",
    "plt.xscale('log')\n",
    "plt.yscale('log')\n",
    "\n",
    "\n",
    "plt.xlabel('Rank')\n",
    "plt.ylabel('Frequency')\n",
    "plt.legend()\n",
    "\n",
    "\n",
    "plt.show()"
   ]
  },
  {
   "cell_type": "code",
   "execution_count": null,
   "id": "12f7285c",
   "metadata": {},
   "outputs": [],
   "source": []
  }
 ],
 "metadata": {
  "kernelspec": {
   "display_name": "Python 3 (ipykernel)",
   "language": "python",
   "name": "python3"
  },
  "language_info": {
   "codemirror_mode": {
    "name": "ipython",
    "version": 3
   },
   "file_extension": ".py",
   "mimetype": "text/x-python",
   "name": "python",
   "nbconvert_exporter": "python",
   "pygments_lexer": "ipython3",
   "version": "3.11.0"
  }
 },
 "nbformat": 4,
 "nbformat_minor": 5
}
